{
 "cells": [
  {
   "cell_type": "markdown",
   "id": "b7d71270-8879-4c76-9103-1298e50f6346",
   "metadata": {},
   "source": [
    "<h1>Data Science Tools and Ecosystem</h1>"
   ]
  },
  {
   "cell_type": "markdown",
   "id": "3ef47b58-16f8-492f-9472-8714f1b9bfc7",
   "metadata": {},
   "source": [
    "<h2>Author</h2>\n",
    "Martin L"
   ]
  },
  {
   "cell_type": "markdown",
   "id": "f179dcde-dab8-47ea-8790-71b4da97dc9d",
   "metadata": {},
   "source": [
    "## In this notebook, Data Science Tools and Ecosystem are summarized."
   ]
  },
  {
   "cell_type": "markdown",
   "id": "e3bc8fc1-d223-4e4e-a943-c0f82307bf83",
   "metadata": {},
   "source": [
    "### <b>Objectives:</b>\n",
    "* List popular langauges for Data Science\n",
    "* List commonly used libraries used by Data Scientists\n",
    "* Learn how to write code and markdown in JupyterLab"
   ]
  },
  {
   "cell_type": "markdown",
   "id": "dafe2b62-b864-4593-a3dd-6a1e2ff22b6b",
   "metadata": {},
   "source": [
    "#### Some of the popular languages that Data Scientists use are:\n",
    "1. Python\n",
    "2. R\n",
    "3. Julia\n",
    "4. JavaScrpt"
   ]
  },
  {
   "cell_type": "markdown",
   "id": "179a1e31-6988-41f5-9dae-437a89d27c7e",
   "metadata": {},
   "source": [
    "#### Some of the commonly used libraries used by Data Scientists include:\n",
    "1. ggplot\n",
    "2. numpy\n",
    "3. pandas\n",
    "4. scikit-learn\n",
    "5. pyspark "
   ]
  },
  {
   "cell_type": "markdown",
   "id": "9049b5b3-5d1c-444d-82cd-f1f4dc1b6e4e",
   "metadata": {},
   "source": [
    "#### Data Science Tools\n",
    "\n",
    "| Tool Name |\n",
    "| -- |\n",
    "| R Studio |\n",
    "| JupyterLab |\n",
    "| Anaconda |\n"
   ]
  },
  {
   "cell_type": "markdown",
   "id": "1fd5ebfe-911d-4ef4-bda2-e47f4eda57f3",
   "metadata": {},
   "source": [
    "<h3>Below are a few examples of evaluating arithmetic expressions in Python</h3>"
   ]
  },
  {
   "cell_type": "code",
   "execution_count": 2,
   "id": "3bcda04c-e305-4e1c-bf17-9b81ef0b3c4f",
   "metadata": {},
   "outputs": [
    {
     "data": {
      "text/plain": [
       "17"
      ]
     },
     "execution_count": 2,
     "metadata": {},
     "output_type": "execute_result"
    }
   ],
   "source": [
    "# This a simple arithmetic expression to mutiply then add integers\n",
    "(3*4)+5"
   ]
  },
  {
   "cell_type": "code",
   "execution_count": 3,
   "id": "b25fa059-18a5-45f6-8323-8a38114afddd",
   "metadata": {},
   "outputs": [
    {
     "data": {
      "text/plain": [
       "3.3333333333333335"
      ]
     },
     "execution_count": 3,
     "metadata": {},
     "output_type": "execute_result"
    }
   ],
   "source": [
    "# This will convert 200 minutes to hours by diving by 60\n",
    "200 / 60"
   ]
  }
 ],
 "metadata": {
  "kernelspec": {
   "display_name": "Python 3 (ipykernel)",
   "language": "python",
   "name": "python3"
  },
  "language_info": {
   "codemirror_mode": {
    "name": "ipython",
    "version": 3
   },
   "file_extension": ".py",
   "mimetype": "text/x-python",
   "name": "python",
   "nbconvert_exporter": "python",
   "pygments_lexer": "ipython3",
   "version": "3.10.13"
  }
 },
 "nbformat": 4,
 "nbformat_minor": 5
}
